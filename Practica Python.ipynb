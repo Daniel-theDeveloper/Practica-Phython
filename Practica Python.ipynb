{
 "cells": [
  {
   "cell_type": "markdown",
   "id": "6b124c9e-8cbe-4d02-8459-8ac4a13acd4d",
   "metadata": {},
   "source": [
    "Enlace a GitHub:"
   ]
  },
  {
   "cell_type": "markdown",
   "id": "f903939c-d62b-40bd-b351-2c22312217ce",
   "metadata": {},
   "source": [
    "# Parte 1"
   ]
  },
  {
   "cell_type": "markdown",
   "id": "52e7e21f-b1d0-41c8-bd4a-a5c079b423ac",
   "metadata": {},
   "source": [
    "1. Realizar una función que recibe 3 números (d, m, a) que representan una fecha (día, mes y año). El programa debe devolver el día (la fecha) siguiente a la recibida por parámetro. Se debe tener en cuenta los días de cada mes y los años bisiestos."
   ]
  },
  {
   "cell_type": "code",
   "execution_count": 1,
   "id": "25c0b237-fbf5-4274-9fae-5fee1e1d0c0c",
   "metadata": {},
   "outputs": [
    {
     "name": "stdout",
     "output_type": "stream",
     "text": [
      "1 / 3 / 2013\n"
     ]
    }
   ],
   "source": [
    "def diaSiguiente (d, m, a):\n",
    "    if m == 1 or m == 3 or m == 5 or m == 7 or m == 8 or m == 10:\n",
    "        if d >= 31:\n",
    "            m = m + 1\n",
    "            d = 1\n",
    "        else:\n",
    "            d = d + 1\n",
    "    elif m == 4 or m == 6 or m == 9 or m == 11:\n",
    "        if d >= 30:\n",
    "            m = m + 1\n",
    "            d = 1\n",
    "        else:\n",
    "            d = d + 1\n",
    "    elif m == 12:\n",
    "        if d >= 31:\n",
    "            a = a + 1\n",
    "            m = 1\n",
    "            d = 1\n",
    "        else:\n",
    "            d = d + 1\n",
    "    elif m == 2:\n",
    "        if not a % 4 and (a % 100 or not a % 400):\n",
    "            if d >= 29:\n",
    "                m = m + 1\n",
    "                d = 1\n",
    "            else:\n",
    "                d = d + 1\n",
    "        else:\n",
    "            if d >= 28:\n",
    "                m = m + 1\n",
    "                d = 1\n",
    "            else:\n",
    "                d = d + 1\n",
    "    \n",
    "    print(d,\"/\",m,\"/\",a)\n",
    "\n",
    "diaSiguiente(28,2,2013)"
   ]
  },
  {
   "cell_type": "markdown",
   "id": "9f50afa0-bd08-4bb1-904e-afea40358cc2",
   "metadata": {},
   "source": [
    "2. Dada la siguiente lista:\n",
    "palabras_espanol = [\"Perro\", \"Gato\", \"Casa\", \"Coche\", \"Árbol\", \"Sol\", \"Luna\", \"Mar\", \"Montaña\", \"Río\", \"Playa\", \"Libro\", \"Computadora\", \"Teléfono\",\n",
    "\"Amigo\", \"Familia\", \"Trabajo\", \"Comida\", \"Película\", \"Música\", \"Viaje\", \"Deporte\", \"Juego\", \"Amor\", \"Odio\", \"Felicidad\", \"Tristeza\", \"Alegría\", \"Dolor\", \"Sueño\", \"Noche\", \"Día\", \"Agua\", \"Fuego\", \"Aire\", \"Tierra\", \"Cielo\", \"Estrella\", \"Flor\", \"Fruta\", \"Verdura\", \"Chocolate\", \"Café\", \"Té\", \"Vino\", \"Cerveza\", \"Dinero\", \"Tiempo\", \"Reloj\", \"Reloj\"]\n",
    "\n",
    "Construye un programa que muestre por pantalla cuantas veces aparece cada una de ellas."
   ]
  },
  {
   "cell_type": "code",
   "execution_count": 5,
   "id": "3b160dfc-026d-4f54-8663-05983413c8d4",
   "metadata": {},
   "outputs": [
    {
     "name": "stdout",
     "output_type": "stream",
     "text": [
      "La palabra  Agua  se repite  1\n",
      "La palabra  Aire  se repite  1\n",
      "La palabra  Alegría  se repite  1\n",
      "La palabra  Amigo  se repite  1\n",
      "La palabra  Amor  se repite  1\n",
      "La palabra  Café  se repite  1\n",
      "La palabra  Casa  se repite  1\n",
      "La palabra  Cerveza  se repite  1\n",
      "La palabra  Chocolate  se repite  1\n",
      "La palabra  Cielo  se repite  1\n",
      "La palabra  Coche  se repite  1\n",
      "La palabra  Comida  se repite  1\n",
      "La palabra  Computadora  se repite  1\n",
      "La palabra  Deporte  se repite  1\n",
      "La palabra  Dinero  se repite  1\n",
      "La palabra  Dolor  se repite  1\n",
      "La palabra  Día  se repite  1\n",
      "La palabra  Estrella  se repite  1\n",
      "La palabra  Familia  se repite  1\n",
      "La palabra  Felicidad  se repite  1\n",
      "La palabra  Flor  se repite  1\n",
      "La palabra  Fruta  se repite  1\n",
      "La palabra  Fuego  se repite  1\n",
      "La palabra  Gato  se repite  1\n",
      "La palabra  Juego  se repite  1\n",
      "La palabra  Libro  se repite  1\n",
      "La palabra  Luna  se repite  1\n",
      "La palabra  Mar  se repite  1\n",
      "La palabra  Montaña  se repite  1\n",
      "La palabra  Música  se repite  1\n",
      "La palabra  Noche  se repite  1\n",
      "La palabra  Odio  se repite  1\n",
      "La palabra  Película  se repite  1\n",
      "La palabra  Perro  se repite  1\n",
      "La palabra  Playa  se repite  1\n",
      "La palabra  Reloj  se repite  2\n",
      "La palabra  Río  se repite  1\n",
      "La palabra  Sol  se repite  1\n",
      "La palabra  Sueño  se repite  1\n",
      "La palabra  Teléfono  se repite  1\n",
      "La palabra  Tiempo  se repite  1\n",
      "La palabra  Tierra  se repite  1\n",
      "La palabra  Trabajo  se repite  1\n",
      "La palabra  Tristeza  se repite  1\n",
      "La palabra  Té  se repite  1\n",
      "La palabra  Verdura  se repite  1\n",
      "La palabra  Viaje  se repite  1\n",
      "La palabra  Vino  se repite  1\n"
     ]
    }
   ],
   "source": [
    "palabras = [\"Perro\", \"Gato\", \"Casa\", \"Coche\", \"Árbol\", \"Sol\", \"Luna\", \"Mar\", \"Montaña\", \"Río\", \"Playa\", \"Libro\", \"Computadora\", \"Teléfono\", \"Amigo\", \"Familia\", \"Trabajo\", \"Comida\", \"Película\", \"Música\", \"Viaje\", \"Deporte\", \"Juego\", \"Amor\", \"Odio\", \"Felicidad\", \"Tristeza\", \"Alegría\", \"Dolor\", \"Sueño\", \"Noche\", \"Día\", \"Agua\", \"Fuego\", \"Aire\", \"Tierra\", \"Cielo\", \"Estrella\", \"Flor\", \"Fruta\", \"Verdura\", \"Chocolate\", \"Café\", \"Té\", \"Vino\", \"Cerveza\", \"Dinero\", \"Tiempo\", \"Reloj\", \"Reloj\"]\n",
    "palabras.sort()\n",
    "xi = palabras[0]\n",
    "x = 0\n",
    "c = 0\n",
    "p_max = len(palabras)\n",
    "\n",
    "while x < p_max:\n",
    "    if palabras[x] == xi:\n",
    "        c = c + 1\n",
    "    else:\n",
    "        print(\"La palabra \",xi,\" se repite \",c)\n",
    "        c = 1\n",
    "        xi = palabras[x]\n",
    "    x = x + 1"
   ]
  },
  {
   "cell_type": "markdown",
   "id": "3fdbaecd-7689-4752-8f5f-73423bd9d4e4",
   "metadata": {},
   "source": [
    "3. Dado el siguiente diccionario con información del precio de diferentes productos por día:\n",
    "precio_origen  =  {<br>\n",
    "   \"cebolla\": [30.3, 20.3, 25.9, 39.0], # céntimos/kg <br>\n",
    "   \"patata\": [0.33, 0.43, 0.34, 0.12], # euro/kg<br>\n",
    "   \"naranja\":[0.45, 0.56, 0.38, 0.43] # euro/kg<br>\n",
    "}<br>\n",
    "Responde a las siguientes preguntas:\n",
    "- ¿Cuál es el precio máximo de cada producto?\n",
    "- ¿Cuál es el producto más caro?\n",
    "- ¿Qué día son más caras las naranjas?"
   ]
  },
  {
   "cell_type": "code",
   "execution_count": 26,
   "id": "d9d21d8c-567f-44d8-aaac-cd8484c45c76",
   "metadata": {},
   "outputs": [
    {
     "name": "stdout",
     "output_type": "stream",
     "text": [
      "El precio maximo de cada producto:\n",
      "Cebollas: € 39.0\n",
      "Patatas: € 0.43\n",
      "Naranjas: € 0.56\n",
      "El producto mas caro es:  cebolla , con un precio de: € 39.0\n",
      "El dia mas caro de las naranjas es el dia: 2\n"
     ]
    }
   ],
   "source": [
    "precio_origen  =  {\n",
    "   \"cebolla\": [30.3, 20.3, 25.9, 39.0], # céntimos/kg\n",
    "   \"patata\": [0.33, 0.43, 0.34, 0.12], # euro/kg\n",
    "   \"naranja\":[0.45, 0.56, 0.38, 0.43] # euro/kg\n",
    "}\n",
    "\n",
    "# Pregunta 1:\n",
    "print(\"El precio maximo de cada producto:\")\n",
    "print(\"Cebollas: €\",max(precio_origen[\"cebolla\"]))\n",
    "print(\"Patatas: €\",max(precio_origen[\"patata\"]))\n",
    "print(\"Naranjas: €\",max(precio_origen[\"naranja\"]))\n",
    "\n",
    "# Pregunta 2:\n",
    "producto = \"cebolla\"\n",
    "max_precio = max(precio_origen[\"cebolla\"])\n",
    "for precio in precio_origen:\n",
    "    if max(precio_origen[precio]) > max_precio:\n",
    "        producto = precio\n",
    "        max_precio = max(precio_origen[precio])\n",
    "\n",
    "print(\"El producto mas caro es: \",producto,\", con un precio de: €\",max_precio)\n",
    "\n",
    "# Pregunta 3:\n",
    "precio_lista = precio_origen.get(\"naranja\")\n",
    "x = 0\n",
    "xi = 0\n",
    "precio_anterior = precio_lista[0]\n",
    "max_lista = len(precio_lista)\n",
    "\n",
    "while x < max_lista:\n",
    "    if precio_lista[x] > precio_anterior:\n",
    "        xi = x\n",
    "        precio_anterior = precio_lista[x]\n",
    "    x = x + 1\n",
    "\n",
    "print(\"El dia mas caro de las naranjas es el dia:\",xi + 1)"
   ]
  },
  {
   "cell_type": "markdown",
   "id": "d464f154-d588-448e-89e3-a41a97b49efa",
   "metadata": {},
   "source": [
    "# Parte 2"
   ]
  },
  {
   "cell_type": "markdown",
   "id": "738e7236-4271-44e2-b330-5f4e8d2ceaef",
   "metadata": {},
   "source": [
    "Una empresa tiene un inventario de productos con diferentes categorías, y cada producto tiene un precio y una cantidad en stock. El objetivo es gestionar el inventario de forma eficiente. Instrucciones:<br>\n",
    "\n",
    "1. Crea un diccionario donde la clave sea el nombre de una categoría de producto y el valor sea una lista de tuplas.  Cada tupla contendrá el nombre del producto, el precio y la cantidad en stock."
   ]
  },
  {
   "cell_type": "code",
   "execution_count": 44,
   "id": "c9ddd71a-0a74-40e6-9ab7-d4b8c90665d9",
   "metadata": {},
   "outputs": [],
   "source": [
    "inventario = {\n",
    "    \"Utencilios\": [(\"Platos\", 5.2, 50), (\"Vasos\", 3.5, 50), (\"Tenedores\", 0.15, 100), (\"Cucharas\", 0.15, 100)],\n",
    "    \"Herramientas\": [(\"Pala\", 25.1, 10), (\"Pico\", 35.05, 15), (\"Taladro\", 120, 20), (\"Martillo\", 10.6, 20)],\n",
    "    \"Muebles\": [(\"Mesa\", 70.4, 5), (\"Sillon\", 73, 40), (\"Cama\", 170, 25), (\"Escritorio\", 102.4, 17)],\n",
    "    \"Tecnologia\": [(\"Cargador movil\", 15.6, 30), (\"PowerBank\", 50, 20), (\"Teclado\", 80, 5), (\"Conector USB\", 0.7, 100)]\n",
    "}"
   ]
  },
  {
   "cell_type": "markdown",
   "id": "789d28a4-7103-498f-85f2-650c5bc3b93b",
   "metadata": {},
   "source": [
    "2. Crea una función que calcule el valor total de inventario por categoría (precio por cantidad para cada producto)."
   ]
  },
  {
   "cell_type": "code",
   "execution_count": 38,
   "id": "efa75154-1a30-4707-9895-678328fa431b",
   "metadata": {},
   "outputs": [
    {
     "name": "stdout",
     "output_type": "stream",
     "text": [
      "Precio total en Utencilios : € 465.0\n",
      "Precio total en Herramientas : € 3388.75\n",
      "Precio total en Muebles : € 9262.8\n",
      "Precio total en Tecnologia : € 1938.0\n"
     ]
    }
   ],
   "source": [
    "def precio_categoria ():\n",
    "    for categoria in inventario:\n",
    "        total = 0\n",
    "        productos = inventario.get(categoria)\n",
    "        for detalles in productos:\n",
    "            total_producto = detalles[1] * detalles[2]\n",
    "            total = total + total_producto\n",
    "        print(\"Precio total en\",categoria,\": €\",total)\n",
    "precio_categoria()"
   ]
  },
  {
   "cell_type": "markdown",
   "id": "7c881a77-bdbf-41cc-9b21-2a1bee677222",
   "metadata": {},
   "source": [
    "3. Muestra la categoría que tiene el valor total más alto en inventario."
   ]
  },
  {
   "cell_type": "code",
   "execution_count": 39,
   "id": "0f4e8f21-5970-42a0-8459-7501f5f0a32d",
   "metadata": {},
   "outputs": [
    {
     "name": "stdout",
     "output_type": "stream",
     "text": [
      "La categoria mas alta es:  Muebles  con un valor de € 9262.8\n"
     ]
    }
   ],
   "source": [
    "def precio_alto ():\n",
    "    total_max = 0\n",
    "    categoria_max = \"\"\n",
    "    for categoria in inventario:\n",
    "        total = 0\n",
    "        productos = inventario.get(categoria)\n",
    "        for detalles in productos:\n",
    "            total_producto = detalles[1] * detalles[2]\n",
    "            total = total + total_producto\n",
    "        if total > total_max:\n",
    "            total_max = total\n",
    "            categoria_max = categoria\n",
    "    print(\"La categoria mas alta es: \",categoria_max,\" con un valor de €\",total_max)\n",
    "precio_alto()"
   ]
  },
  {
   "cell_type": "markdown",
   "id": "2f1d9e10-9231-4779-a86c-e5005e2a3582",
   "metadata": {},
   "source": [
    "4. Añade una opción para actualizar el stock de un producto en una categoría específica."
   ]
  },
  {
   "cell_type": "code",
   "execution_count": 46,
   "id": "ce81d545-a7df-4208-9c6f-2c212ea46a62",
   "metadata": {},
   "outputs": [
    {
     "name": "stdout",
     "output_type": "stream",
     "text": [
      "[('Mesa', 70.4, 30), ('Sillon', 73, 38), ('Cama', 170, 25), ('Escritorio', 102.4, 17)]\n"
     ]
    }
   ],
   "source": [
    "def actualizar (buscar, nombre, stock):\n",
    "    productos = inventario.get(buscar)\n",
    "    c_productos = len(productos)\n",
    "    x = 0\n",
    "    xi = 0\n",
    "    while x < c_productos:\n",
    "        if productos[x][0] == nombre:\n",
    "            actualizacion = (productos[x][0], productos[x][1], stock)\n",
    "            productos.pop(x)\n",
    "            productos.insert(x, actualizacion)\n",
    "        x = x + 1\n",
    "\n",
    "    inventario[buscar] = productos\n",
    "    print(inventario[buscar])\n",
    "\n",
    "actualizar(\"Muebles\", \"Sillon\", 38)"
   ]
  }
 ],
 "metadata": {
  "kernelspec": {
   "display_name": "Python 3 (ipykernel)",
   "language": "python",
   "name": "python3"
  },
  "language_info": {
   "codemirror_mode": {
    "name": "ipython",
    "version": 3
   },
   "file_extension": ".py",
   "mimetype": "text/x-python",
   "name": "python",
   "nbconvert_exporter": "python",
   "pygments_lexer": "ipython3",
   "version": "3.13.0"
  }
 },
 "nbformat": 4,
 "nbformat_minor": 5
}
